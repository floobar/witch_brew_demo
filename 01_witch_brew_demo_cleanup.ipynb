{
 "cells": [
  {
   "cell_type": "code",
   "execution_count": null,
   "id": "e17ed758-3eba-4e38-948a-72c0a20d6362",
   "metadata": {
    "editable": true,
    "slideshow": {
     "slide_type": ""
    },
    "tags": [
     "raises-exception"
    ]
   },
   "outputs": [],
   "source": [
    "%%bash\n",
    "\n",
    "run/SQL application_pdb_firefighter \"\n",
    "\n",
    "exec DBMS_SQL_FIREWALL.STOP_CAPTURE ('APPUSER');\n",
    "exec DBMS_SQL_FIREWALL.DROP_CAPTURE('APPUSER');\n",
    "exec DBMS_SQL_FIREWALL.DISABLE_ALLOW_LIST ('APPUSER');\n",
    "exec DBMS_SQL_FIREWALL.DROP_ALLOW_LIST ('APPUSER');\n",
    "exec dbms_sql_firewall.disable;\n",
    "\n",
    "\""
   ]
  },
  {
   "cell_type": "code",
   "execution_count": null,
   "id": "86bc3476-6045-4b94-a21c-61aa8c6a558f",
   "metadata": {
    "editable": true,
    "slideshow": {
     "slide_type": ""
    },
    "tags": [
     "raises-exception"
    ]
   },
   "outputs": [],
   "source": [
    "%%bash\n",
    "\n",
    "run/SQL application_pdb_admin \"\n",
    "\n",
    "drop table if exists SPELLS.power;\n",
    "delete from SPELLS.LIST where id>40;\n",
    "commit;\n",
    "drop user if exists APPUSER cascade;\n",
    "noaudit POLICY SPELLS_audit_policy;\n",
    "drop AUDIT POLICY SPELLS_audit_policy ;\n",
    "\n",
    "BEGIN\n",
    "DBMS_AUDIT_MGMT.CLEAN_AUDIT_TRAIL(\n",
    "audit_trail_type         =>  DBMS_AUDIT_MGMT.AUDIT_TRAIL_UNIFIED,\n",
    "use_last_arch_timestamp  =>  FALSE);\n",
    "END;\n",
    "/\n",
    "\n",
    "drop user if exists FIREFIGHTER cascade;\n",
    "\n",
    "\""
   ]
  },
  {
   "cell_type": "code",
   "execution_count": null,
   "id": "c4e870fe-8dea-4c9d-8bb0-66fc0fd660af",
   "metadata": {},
   "outputs": [],
   "source": [
    "%%bash\n",
    "\n",
    "run/SQL application_pdb_admin \"\n",
    "\n",
    "drop user if exists spells cascade;\n",
    "\n",
    "drop tablespace if exists SPELLS_TBS including contents and datafiles;\n",
    "\n",
    "alter session set container=APPLICATION_PDB;\n",
    "\n",
    "create tablespace SPELLS_TBS;\n",
    "\n",
    "create user if not exists spells default tablespace SPELLS_TBS;\n",
    "\n",
    "grant unlimited tablespace to spells;\n",
    "\n",
    "create table if not exists spells.LIST (\n",
    "\tname varchar2(50) NOT NULL,\n",
    "\t\"ID\" NUMBER GENERATED ALWAYS AS IDENTITY,\n",
    "\tCONSTRAINT list_pk PRIMARY KEY (\"ID\")\n",
    ");\n",
    "\n",
    "insert into spells.LIST(name) values ('Mindreading');\n",
    "insert into spells.LIST(name) values ('Confidence');\n",
    "insert into spells.LIST(name) values ('Protection');\n",
    "insert into spells.LIST(name) values ('Force');\n",
    "insert into spells.LIST(name) values ('Banishing');\n",
    "insert into spells.LIST(name) values ('Binding');\n",
    "insert into spells.LIST(name) values ('Conjuring');\n",
    "insert into spells.LIST(name) values ('Energy');\n",
    "insert into spells.LIST(name) values ('Nightmare');\n",
    "insert into spells.LIST(name) values ('Peace');\n",
    "insert into spells.LIST(name) values ('Power');\n",
    "insert into spells.LIST(name) values ('Illusion');\n",
    "insert into spells.LIST(name) values ('Invisibility');\n",
    "insert into spells.LIST(name) values ('Levitating');\n",
    "insert into spells.LIST(name) values ('Telekinetic');\n",
    "insert into spells.LIST(name) values ('Teleportation');\n",
    "insert into spells.LIST(name) values ('Time');\n",
    "insert into spells.LIST(name) values ('Strength');\n",
    "insert into spells.LIST(name) values ('Bad Luck');\n",
    "insert into spells.LIST(name) values ('Good Luck');\n",
    "insert into spells.LIST(name) values ('Misfortune');\n",
    "insert into spells.LIST(name) values ('Wish');\n",
    "insert into spells.LIST(name) values ('Forgetful');\n",
    "insert into spells.LIST(name) values ('Revenge');\n",
    "insert into spells.LIST(name) values ('Truth');\n",
    "\n",
    "commit;\n",
    "\n",
    "\""
   ]
  },
  {
   "cell_type": "code",
   "execution_count": null,
   "id": "05043335-4963-433e-9f27-52b2ba204c04",
   "metadata": {},
   "outputs": [],
   "source": []
  }
 ],
 "metadata": {
  "kernelspec": {
   "display_name": "Python 3 (ipykernel)",
   "language": "python",
   "name": "python3"
  },
  "language_info": {
   "codemirror_mode": {
    "name": "ipython",
    "version": 3
   },
   "file_extension": ".py",
   "mimetype": "text/x-python",
   "name": "python",
   "nbconvert_exporter": "python",
   "pygments_lexer": "ipython3",
   "version": "3.9.18"
  }
 },
 "nbformat": 4,
 "nbformat_minor": 5
}
