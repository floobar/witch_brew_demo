{
 "cells": [
  {
   "cell_type": "markdown",
   "id": "884127e1-3212-47d5-b7d7-fc88bee792a1",
   "metadata": {},
   "source": [
    "# No more witch's brew: \n",
    "# Simplify database security management with Oracle 23ai\n",
    "\n",
    "Flora Barriele Lift Database\n",
    "Implementation Technical Lead at Oracle\n"
   ]
  },
  {
   "cell_type": "markdown",
   "id": "b9114a8e-3739-4695-b31a-d4d80109e2d5",
   "metadata": {},
   "source": [
    "# Bag of snakes...?\n",
    "\n",
    "- 100+ tickets for single SELECT privilege on new tables?\n",
    "- One app can write on the DB, the other one shouldn't?\n",
    "- Audit trail growth becoming out of control?\n",
    "\n",
    "# ... or can or worms?\n",
    "\n",
    "- Home-made pale imitation of SQL firewall?\n"
   ]
  },
  {
   "cell_type": "markdown",
   "id": "c3587379-7128-42c4-bafe-237e745ea8d5",
   "metadata": {},
   "source": [
    "# Schema privileges\n",
    "\n",
    "- Grant privilege on ALL objects in a schema\n",
    "- To both current and future objects in the schema\n"
   ]
  },
  {
   "cell_type": "code",
   "execution_count": null,
   "id": "9ee68b67-397f-4738-a5a7-9a8e14c20c28",
   "metadata": {
    "editable": true,
    "slideshow": {
     "slide_type": ""
    },
    "tags": []
   },
   "outputs": [],
   "source": [
    "%%bash\n",
    "\n",
    "run/SQL application_pdb_admin \"\n",
    "\n",
    "create user APPUSER identified by \\\"VeryStrong!Password#123\\\";\n",
    "grant CREATE SESSION to APPUSER;\n",
    "\n",
    "\""
   ]
  },
  {
   "cell_type": "code",
   "execution_count": null,
   "id": "65240fba-824b-43cd-84f4-2d1f2153cc77",
   "metadata": {
    "editable": true,
    "slideshow": {
     "slide_type": ""
    },
    "tags": []
   },
   "outputs": [],
   "source": [
    "%%bash\n",
    "\n",
    "run/SQL application_pdb_APPUSER \"\n",
    "\n",
    "select * from SPELLS.LIST;\n",
    "\n",
    "\""
   ]
  },
  {
   "cell_type": "code",
   "execution_count": null,
   "id": "d48d9152-1e04-4642-ab4e-3e8b697cf69c",
   "metadata": {
    "editable": true,
    "slideshow": {
     "slide_type": ""
    },
    "tags": []
   },
   "outputs": [],
   "source": [
    "%%bash\n",
    "\n",
    "run/SQL application_pdb_admin \"\n",
    "\n",
    "grant select any table on schema SPELLS to APPUSER;\n",
    "grant update any table on schema SPELLS to APPUSER;\n",
    "grant insert any table on schema SPELLS to APPUSER;\n",
    "\n",
    "\""
   ]
  },
  {
   "cell_type": "code",
   "execution_count": null,
   "id": "fd33f5f4-ef89-4161-a589-79e594f6b7a4",
   "metadata": {
    "editable": true,
    "slideshow": {
     "slide_type": ""
    },
    "tags": []
   },
   "outputs": [],
   "source": [
    "%%bash\n",
    "\n",
    "run/SQL application_pdb_APPUSER \"\n",
    "\n",
    "select * from SPELLS.LIST where ID<10;\n",
    "\n",
    "\""
   ]
  },
  {
   "cell_type": "code",
   "execution_count": null,
   "id": "7571e327-de9d-4b25-937a-2e1c7119101f",
   "metadata": {
    "editable": true,
    "slideshow": {
     "slide_type": ""
    },
    "tags": []
   },
   "outputs": [],
   "source": [
    "%%bash\n",
    "\n",
    "run/SQL application_pdb_admin \"\n",
    "\n",
    "CREATE TABLE spells.potency (\n",
    "    spell_id NUMBER NOT NULL,\n",
    "    spell_level NUMBER NOT NULL,\n",
    "    CONSTRAINT fk_spell\n",
    "        FOREIGN KEY (spell_id)\n",
    "        REFERENCES spells.list(id)\n",
    ");\n",
    "\n",
    "\n",
    "INSERT INTO spells.potency (spell_id, spell_level)\n",
    "SELECT id, 1\n",
    "FROM spells.list;\n",
    "\n",
    "commit;\n",
    "\n",
    "\""
   ]
  },
  {
   "cell_type": "code",
   "execution_count": null,
   "id": "f03686e9-abfe-45bc-917a-e9a8552a11c1",
   "metadata": {
    "editable": true,
    "slideshow": {
     "slide_type": ""
    },
    "tags": []
   },
   "outputs": [],
   "source": [
    "%%bash\n",
    "\n",
    "run/SQL application_pdb_APPUSER \"\n",
    "\n",
    "select * from SPELLS.potency where spell_id<10;\n",
    "\n",
    "\""
   ]
  },
  {
   "attachments": {},
   "cell_type": "markdown",
   "id": "c9a6fd02-bf1f-444a-8ccd-6a98073516e2",
   "metadata": {},
   "source": [
    "# Read-only users\n",
    "- For a local user\n",
    "- Acts like PDB is opened in read-only mode"
   ]
  },
  {
   "cell_type": "code",
   "execution_count": null,
   "id": "c063d84b-efb8-434b-8b99-8b0fc362a973",
   "metadata": {
    "editable": true,
    "slideshow": {
     "slide_type": ""
    },
    "tags": []
   },
   "outputs": [],
   "source": [
    "%%bash\n",
    "\n",
    "run/SQL application_pdb_APPUSER \"\n",
    "\n",
    "insert into SPELLS.LIST(name) values ('Luck');\n",
    "commit;\n",
    "select * from SPELLS.LIST where name like '%uck%';\n",
    "\n",
    "\""
   ]
  },
  {
   "cell_type": "code",
   "execution_count": null,
   "id": "26395f1c-92d0-482a-a1b8-13ea39c76cd9",
   "metadata": {
    "editable": true,
    "slideshow": {
     "slide_type": ""
    },
    "tags": []
   },
   "outputs": [],
   "source": [
    "%%bash\n",
    "\n",
    "run/SQL application_pdb_admin \"\n",
    "\n",
    "alter user APPUSER read only;\n",
    "\n",
    "\""
   ]
  },
  {
   "cell_type": "code",
   "execution_count": null,
   "id": "cf4e878e-1295-4efe-9149-0b66ceb3ac77",
   "metadata": {
    "editable": true,
    "slideshow": {
     "slide_type": ""
    },
    "tags": []
   },
   "outputs": [],
   "source": [
    "%%bash\n",
    "\n",
    "run/SQL application_pdb_APPUSER \"\n",
    "\n",
    "select * from SPELLS.LIST where name like '%uck%';\n",
    "insert into SPELLS.LIST(name) values ('Sobriety');\n",
    "\n",
    "\""
   ]
  },
  {
   "cell_type": "code",
   "execution_count": null,
   "id": "18aa7a59-1b44-4107-a8fb-ffbc235a1fec",
   "metadata": {
    "editable": true,
    "slideshow": {
     "slide_type": ""
    },
    "tags": []
   },
   "outputs": [],
   "source": [
    "%%bash\n",
    "\n",
    "run/SQL application_pdb_admin \"\n",
    "\n",
    "alter user APPUSER read write;\n",
    "\n",
    "\""
   ]
  },
  {
   "cell_type": "code",
   "execution_count": null,
   "id": "e4b799d9-33e9-4bce-8c1c-ce1ddb4e857a",
   "metadata": {
    "editable": true,
    "slideshow": {
     "slide_type": ""
    },
    "tags": []
   },
   "outputs": [],
   "source": [
    "%%bash\n",
    "\n",
    "run/SQL application_pdb_APPUSER \"\n",
    "\n",
    "insert into SPELLS.LIST(name) values ('Inebriety');\n",
    "commit;\n",
    "select * from SPELLS.LIST where name like '%briety%';\n",
    "\n",
    "\""
   ]
  },
  {
   "attachments": {},
   "cell_type": "markdown",
   "id": "43d1699f-a6ac-46ef-a930-64d4ec470473",
   "metadata": {
    "editable": true,
    "slideshow": {
     "slide_type": ""
    },
    "tags": []
   },
   "source": [
    "# Hybrid Read-Only Mode for PDB\n",
    "\n",
    "Hybrid open mode where PDB operates as\n",
    "- read-only for local users\n",
    "- read-write for common users"
   ]
  },
  {
   "cell_type": "code",
   "execution_count": null,
   "id": "7e3f2455-eac3-4b35-b8af-2336082a5b9c",
   "metadata": {
    "editable": true,
    "slideshow": {
     "slide_type": ""
    },
    "tags": []
   },
   "outputs": [],
   "source": [
    "%%bash\n",
    "\n",
    "run/SQL application_cdb_admin \"\n",
    "\n",
    "alter pluggable database APPLICATION_PDB close immediate;\n",
    "alter pluggable database APPLICATION_PDB open hybrid read only;\n",
    "\n",
    "\""
   ]
  },
  {
   "cell_type": "code",
   "execution_count": null,
   "id": "6c53f799-a5c1-469d-b162-5e2ff2c92949",
   "metadata": {
    "editable": true,
    "slideshow": {
     "slide_type": ""
    },
    "tags": []
   },
   "outputs": [],
   "source": [
    "%%bash\n",
    "\n",
    "run/SQL application_pdb_APPUSER \"\n",
    "\n",
    "select * from SPELLS.LIST where name like '%ind%';\n",
    "\n",
    "\""
   ]
  },
  {
   "cell_type": "code",
   "execution_count": null,
   "id": "b2bd770b-b19f-4039-b895-907ab9240a0d",
   "metadata": {
    "editable": true,
    "slideshow": {
     "slide_type": ""
    },
    "tags": []
   },
   "outputs": [],
   "source": [
    "%%bash\n",
    "\n",
    "run/SQL application_pdb_APPUSER \"\n",
    "\n",
    "insert into SPELLS.LIST(name) values ('Kindness');\n",
    "\n",
    "\""
   ]
  },
  {
   "cell_type": "code",
   "execution_count": null,
   "id": "a77c79f1-1da5-43f1-a9ba-554d88ba9fc8",
   "metadata": {
    "editable": true,
    "slideshow": {
     "slide_type": ""
    },
    "tags": []
   },
   "outputs": [],
   "source": [
    "%%bash\n",
    "\n",
    "run/SQL application_pdb_admin \"\n",
    "\n",
    "insert into SPELLS.LIST(name) values ('Kindness');\n",
    "commit;\n",
    "\n",
    "\""
   ]
  },
  {
   "cell_type": "code",
   "execution_count": null,
   "id": "cdc45e22-dd94-4c05-8300-1779b43734fa",
   "metadata": {
    "editable": true,
    "slideshow": {
     "slide_type": ""
    },
    "tags": []
   },
   "outputs": [],
   "source": [
    "%%bash\n",
    "\n",
    "run/SQL application_cdb_admin \"\n",
    "\n",
    "alter pluggable database APPLICATION_PDB close immediate;\n",
    "alter pluggable database APPLICATION_PDB open ;\n",
    "\n",
    "\""
   ]
  },
  {
   "cell_type": "code",
   "execution_count": null,
   "id": "0b2677a6-7b68-4cf7-b1aa-349c0cc4b9a9",
   "metadata": {
    "editable": true,
    "slideshow": {
     "slide_type": ""
    },
    "tags": []
   },
   "outputs": [],
   "source": [
    "%%bash\n",
    "\n",
    "run/SQL application_pdb_APPUSER \"\n",
    "\n",
    "insert into SPELLS.LIST(name) values ('Madness');\n",
    "commit;\n",
    "select * from SPELLS.LIST where name like '%ness%';\n",
    "\n",
    "\""
   ]
  },
  {
   "attachments": {},
   "cell_type": "markdown",
   "id": "62feb3dc-45f9-41a1-bbd8-9d73ec6fc13d",
   "metadata": {
    "editable": true,
    "slideshow": {
     "slide_type": ""
    },
    "tags": []
   },
   "source": [
    "# Audit Object Actions at Column Level\n",
    "- Audit individual columns in tables and views"
   ]
  },
  {
   "cell_type": "code",
   "execution_count": null,
   "id": "c67988bc-3d42-4bde-886a-7cc8c97e9a76",
   "metadata": {
    "editable": true,
    "slideshow": {
     "slide_type": ""
    },
    "tags": []
   },
   "outputs": [],
   "source": [
    "%%bash\n",
    "\n",
    "run/SQL application_pdb_admin \"\n",
    "\n",
    "BEGIN\n",
    "DBMS_AUDIT_MGMT.CLEAN_AUDIT_TRAIL(\n",
    "audit_trail_type         =>  DBMS_AUDIT_MGMT.AUDIT_TRAIL_UNIFIED,\n",
    "use_last_arch_timestamp  =>  FALSE);\n",
    "END;\n",
    "/\n",
    "\n",
    "\""
   ]
  },
  {
   "cell_type": "code",
   "execution_count": null,
   "id": "966f5946-c812-4153-99df-984258fb07a5",
   "metadata": {
    "editable": true,
    "slideshow": {
     "slide_type": ""
    },
    "tags": []
   },
   "outputs": [],
   "source": [
    "%%bash\n",
    "\n",
    "run/SQL application_pdb_admin \"\n",
    "\n",
    "SELECT EVENT_TIMESTAMP, DBUSERNAME, ACTION_NAME, OBJECT_SCHEMA, OBJECT_NAME, SQL_TEXT\n",
    "FROM   UNIFIED_AUDIT_TRAIL\n",
    "WHERE  OBJECT_NAME = 'LIST'\n",
    "ORDER BY EVENT_TIMESTAMP;\t\n",
    "\n",
    "\""
   ]
  },
  {
   "cell_type": "code",
   "execution_count": null,
   "id": "7c745cec-f15a-41b6-a18a-44540f875570",
   "metadata": {
    "editable": true,
    "slideshow": {
     "slide_type": ""
    },
    "tags": []
   },
   "outputs": [],
   "source": [
    "%%bash\n",
    "\n",
    "run/SQL application_pdb_admin \"\n",
    "\n",
    "CREATE AUDIT POLICY spells_audit_policy \n",
    "ACTIONS SELECT(name) ON SPELLS.LIST;\n",
    "\n",
    "AUDIT POLICY spells_audit_policy;\n",
    "\n",
    "\""
   ]
  },
  {
   "cell_type": "code",
   "execution_count": null,
   "id": "85a58c1d-232f-4c7d-8210-c5d4711193bc",
   "metadata": {
    "editable": true,
    "slideshow": {
     "slide_type": ""
    },
    "tags": []
   },
   "outputs": [],
   "source": [
    "%%bash\n",
    "\n",
    "run/SQL application_pdb_APPUSER \"\n",
    "\n",
    "SELECT id FROM SPELLS.LIST where id<10;\n",
    "SELECT name FROM SPELLS.LIST where id<10;\n",
    "\n",
    "\""
   ]
  },
  {
   "cell_type": "code",
   "execution_count": null,
   "id": "f5c591bf-7679-4517-ba91-602b33f8106f",
   "metadata": {
    "editable": true,
    "slideshow": {
     "slide_type": ""
    },
    "tags": []
   },
   "outputs": [],
   "source": [
    "%%bash\n",
    "\n",
    "run/SQL application_pdb_admin \"\n",
    "\n",
    "SELECT EVENT_TIMESTAMP, DBUSERNAME, ACTION_NAME, OBJECT_SCHEMA, OBJECT_NAME, SQL_TEXT\n",
    "FROM   UNIFIED_AUDIT_TRAIL\n",
    "WHERE  OBJECT_NAME = 'LIST'\n",
    "ORDER BY EVENT_TIMESTAMP;\n",
    "\n",
    "\""
   ]
  },
  {
   "attachments": {},
   "cell_type": "markdown",
   "id": "9a097330-f4f7-481f-b511-886bf60f3f07",
   "metadata": {
    "editable": true,
    "slideshow": {
     "slide_type": ""
    },
    "tags": []
   },
   "source": [
    "# SQL Firewall\n",
    "\n",
    "Inspects all incoming SQL statements and ensures:\n",
    "\n",
    "- only explicitly authorized SQL is run\n",
    "- only session with specific context can connect\n"
   ]
  },
  {
   "attachments": {},
   "cell_type": "markdown",
   "id": "d9c91de2-713b-41a0-bd83-b683e7ba0625",
   "metadata": {
    "editable": true,
    "slideshow": {
     "slide_type": ""
    },
    "tags": []
   },
   "source": [
    "![SQLFIREWALL](graphics/sql_firewall.png) "
   ]
  },
  {
   "cell_type": "code",
   "execution_count": null,
   "id": "39400deb-dd50-4127-9cf8-3f645e0105a9",
   "metadata": {
    "editable": true,
    "slideshow": {
     "slide_type": ""
    },
    "tags": []
   },
   "outputs": [],
   "source": [
    "%%bash\n",
    "\n",
    "run/SQL application_pdb_admin \"\n",
    "\n",
    "show con_name\n",
    "create user FIREFIGHTER identified by \\\"V3ry!Str0ng!\\\";\n",
    "grant CREATE SESSION to FIREFIGHTER ;\n",
    "grant SQL_FIREWALL_ADMIN to FIREFIGHTER ;\n",
    "\n",
    "\""
   ]
  },
  {
   "cell_type": "code",
   "execution_count": null,
   "id": "7a29012d-f55f-4dc8-8328-2efc960a2281",
   "metadata": {
    "editable": true,
    "slideshow": {
     "slide_type": ""
    },
    "tags": []
   },
   "outputs": [],
   "source": [
    "%%bash\n",
    "\n",
    "run/SQL application_pdb_firefighter \"\n",
    "\n",
    "exec DBMS_SQL_FIREWALL.ENABLE;\n",
    "exec DBMS_SQL_FIREWALL.CREATE_CAPTURE ('APPUSER');\n",
    "select * from DBA_SQL_FIREWALL_CAPTURES ;\n",
    "\n",
    "\""
   ]
  },
  {
   "cell_type": "code",
   "execution_count": null,
   "id": "626f96e2-09db-4bbf-854d-9884c14d3fd8",
   "metadata": {
    "editable": true,
    "slideshow": {
     "slide_type": ""
    },
    "tags": []
   },
   "outputs": [],
   "source": [
    "%%bash\n",
    "\n",
    "run/SQL_from_app_server1 application_pdb_APPUSER \"\n",
    "\n",
    "select * from SPELLS.LIST where name like '%iety%' ;\n",
    "insert into SPELLS.LIST(name) values ('Control');\n",
    "commit;\n",
    "\n",
    "\""
   ]
  },
  {
   "cell_type": "code",
   "execution_count": null,
   "id": "188f2235-f644-4507-8e99-3a864086e4e5",
   "metadata": {
    "editable": true,
    "slideshow": {
     "slide_type": ""
    },
    "tags": []
   },
   "outputs": [],
   "source": [
    "%%bash\n",
    "\n",
    "run/SQL application_pdb_firefighter \"\n",
    "\n",
    "exec DBMS_SQL_FIREWALL.STOP_CAPTURE ('APPUSER');\n",
    "select * from DBA_SQL_FIREWALL_CAPTURES ;\n",
    "\n",
    "\""
   ]
  },
  {
   "cell_type": "code",
   "execution_count": null,
   "id": "c9d45ef0-1cf2-4649-b3c9-dd0772ec4936",
   "metadata": {
    "editable": true,
    "slideshow": {
     "slide_type": ""
    },
    "tags": []
   },
   "outputs": [],
   "source": [
    "%%bash\n",
    "\n",
    "run/SQL application_pdb_firefighter \"\n",
    "\n",
    "select USERNAME, SQL_TEXT, CLIENT_PROGRAM, IP_ADDRESS from DBA_SQL_FIREWALL_CAPTURE_LOGS ;\n",
    "\n",
    "\""
   ]
  },
  {
   "cell_type": "code",
   "execution_count": null,
   "id": "32653e51-d379-4180-9ee5-6dd0db5503be",
   "metadata": {
    "editable": true,
    "slideshow": {
     "slide_type": ""
    },
    "tags": []
   },
   "outputs": [],
   "source": [
    "%%bash\n",
    "\n",
    "run/SQL application_pdb_firefighter \"\n",
    "\n",
    "select * from DBA_SQL_FIREWALL_ALLOW_LISTS ;\n",
    "\n",
    "\""
   ]
  },
  {
   "cell_type": "code",
   "execution_count": null,
   "id": "f98b16fd-b309-4a21-b7c1-b77521e5f9be",
   "metadata": {
    "editable": true,
    "slideshow": {
     "slide_type": ""
    },
    "tags": []
   },
   "outputs": [],
   "source": [
    "%%bash\n",
    "\n",
    "run/SQL application_pdb_firefighter \"\n",
    "\n",
    "exec DBMS_SQL_FIREWALL.GENERATE_ALLOW_LIST ('APPUSER');\n",
    "select USERNAME, GENERATED_ON, STATUS, ENFORCE, BLOCK from DBA_SQL_FIREWALL_ALLOW_LISTS ;\n",
    "\n",
    "\""
   ]
  },
  {
   "cell_type": "code",
   "execution_count": null,
   "id": "d7ba3d5d-58db-4c7c-87ee-453490fd382f",
   "metadata": {
    "editable": true,
    "slideshow": {
     "slide_type": ""
    },
    "tags": []
   },
   "outputs": [],
   "source": [
    "%%bash\n",
    "\n",
    "run/SQL application_pdb_firefighter \"\n",
    "\n",
    "select * from DBA_SQL_FIREWALL_ALLOWED_IP_ADDR;\n",
    "select * from DBA_SQL_FIREWALL_ALLOWED_OS_PROG;\n",
    "select * from DBA_SQL_FIREWALL_ALLOWED_OS_USER;\n",
    "\n",
    "\""
   ]
  },
  {
   "cell_type": "code",
   "execution_count": null,
   "id": "c5a27d2e-54ec-4154-b514-123a3ac0bd83",
   "metadata": {
    "editable": true,
    "slideshow": {
     "slide_type": ""
    },
    "tags": []
   },
   "outputs": [],
   "source": [
    "%%bash\n",
    "\n",
    "run/SQL application_pdb_firefighter \"\n",
    "\n",
    "select USERNAME, SQL_TEXT from DBA_SQL_FIREWALL_ALLOWED_SQL ;\n",
    "\n",
    "\""
   ]
  },
  {
   "cell_type": "code",
   "execution_count": null,
   "id": "d0475320-711a-4b67-9209-1ad6bde39879",
   "metadata": {
    "editable": true,
    "slideshow": {
     "slide_type": ""
    },
    "tags": []
   },
   "outputs": [],
   "source": [
    "%%bash\n",
    "\n",
    "run/SQL application_pdb_firefighter \"\n",
    "\n",
    "BEGIN\n",
    "  DBMS_SQL_FIREWALL.ENABLE_ALLOW_LIST (\n",
    "    username       => 'APPUSER',\n",
    "    enforce        => DBMS_SQL_FIREWALL.ENFORCE_CONTEXT,\n",
    "    block          => TRUE\n",
    "   );\n",
    "END;\n",
    "/\n",
    "\n",
    "\""
   ]
  },
  {
   "cell_type": "code",
   "execution_count": null,
   "id": "9f35a25f-9ab0-446f-b033-845b65694f46",
   "metadata": {
    "editable": true,
    "slideshow": {
     "slide_type": ""
    },
    "tags": []
   },
   "outputs": [],
   "source": [
    "%%bash\n",
    "\n",
    "run/SQL_from_app_server1 application_pdb_APPUSER \"\n",
    "\n",
    "update SPELLS.LIST set name='Control freak' where name='Control';\n",
    "commit;\n",
    "\n",
    "\""
   ]
  },
  {
   "cell_type": "code",
   "execution_count": null,
   "id": "fca2223a-210a-4a0b-a9ec-f80aa95ee5fb",
   "metadata": {
    "editable": true,
    "slideshow": {
     "slide_type": ""
    },
    "tags": []
   },
   "outputs": [],
   "source": [
    "%%bash\n",
    "\n",
    "run/SQL_from_app_server2 application_pdb_APPUSER \"\n",
    "\n",
    "select * from SPELLS.LIST where name like '%iety%' ;\n",
    "\n",
    "\""
   ]
  },
  {
   "cell_type": "code",
   "execution_count": null,
   "id": "c6c36764-17d3-48f1-ae56-2c7f5e0f8372",
   "metadata": {
    "editable": true,
    "slideshow": {
     "slide_type": ""
    },
    "tags": []
   },
   "outputs": [],
   "source": [
    "%%bash\n",
    "\n",
    "run/SQL application_pdb_firefighter \"\n",
    "\n",
    "exec DBMS_SQL_FIREWALL.DISABLE_ALLOW_LIST ('APPUSER');\n",
    "\n",
    "\""
   ]
  },
  {
   "cell_type": "code",
   "execution_count": null,
   "id": "6cad57d4-93b1-4064-ad82-37718c3f38e8",
   "metadata": {
    "editable": true,
    "slideshow": {
     "slide_type": ""
    },
    "tags": [
     "raises-exception"
    ]
   },
   "outputs": [],
   "source": [
    "%%bash\n",
    "\n",
    "run/SQL_from_app_server2 application_pdb_APPUSER \"\n",
    "\n",
    "select * from SPELLS.LIST where name like '%iety%' ;\n",
    "\n",
    "\""
   ]
  },
  {
   "cell_type": "code",
   "execution_count": null,
   "id": "756fb4b1-7587-4c41-b059-1e865b66bc2a",
   "metadata": {
    "editable": true,
    "slideshow": {
     "slide_type": ""
    },
    "tags": []
   },
   "outputs": [],
   "source": [
    "%%bash\n",
    "\n",
    "run/SQL application_pdb_firefighter \"\n",
    "\n",
    "BEGIN\n",
    "  DBMS_SQL_FIREWALL.ENABLE_ALLOW_LIST (\n",
    "    username       => 'APPUSER',\n",
    "    enforce        => DBMS_SQL_FIREWALL.ENFORCE_SQL,\n",
    "    block          => TRUE\n",
    "   );\n",
    "END;\n",
    "/\n",
    "\n",
    "\""
   ]
  },
  {
   "cell_type": "code",
   "execution_count": null,
   "id": "7f90d7a3-a94b-40a2-a28d-2dd0122c9b07",
   "metadata": {},
   "outputs": [],
   "source": [
    "%%bash\n",
    "\n",
    "run/SQL application_pdb_firefighter \"\n",
    "\n",
    "select USERNAME, SQL_TEXT from DBA_SQL_FIREWALL_ALLOWED_SQL ;\n",
    "\n",
    "\""
   ]
  },
  {
   "cell_type": "code",
   "execution_count": null,
   "id": "7fffdf1a-2b12-4682-8fba-68c7b917b1f0",
   "metadata": {
    "editable": true,
    "slideshow": {
     "slide_type": ""
    },
    "tags": []
   },
   "outputs": [],
   "source": [
    "%%bash\n",
    "\n",
    "run/SQL_from_app_server1 application_pdb_APPUSER \"\n",
    "\n",
    "update SPELLS.LIST set name='Control freak' where name='Control';\n",
    "\n",
    "\""
   ]
  },
  {
   "cell_type": "code",
   "execution_count": null,
   "id": "83186f67-a054-447d-abc6-0d1ae8de8747",
   "metadata": {
    "editable": true,
    "slideshow": {
     "slide_type": ""
    },
    "tags": []
   },
   "outputs": [],
   "source": [
    "%%bash\n",
    "\n",
    "run/SQL application_pdb_firefighter \"\n",
    "\n",
    "exec DBMS_SQL_FIREWALL.DISABLE_ALLOW_LIST ('APPUSER');\n",
    "\n",
    "BEGIN\n",
    "  DBMS_SQL_FIREWALL.ENABLE_ALLOW_LIST (\n",
    "    username       => 'APPUSER',\n",
    "    enforce        => DBMS_SQL_FIREWALL.ENFORCE_ALL,\n",
    "    block          => TRUE\n",
    "   );\n",
    "END;\n",
    "/\n",
    "\n",
    "\""
   ]
  },
  {
   "cell_type": "code",
   "execution_count": null,
   "id": "66f427b9-f705-4de9-a555-872cac9d6585",
   "metadata": {
    "editable": true,
    "slideshow": {
     "slide_type": ""
    },
    "tags": []
   },
   "outputs": [],
   "source": [
    "%%bash\n",
    "\n",
    "run/SQL_from_app_server2 application_pdb_APPUSER \"\""
   ]
  },
  {
   "cell_type": "code",
   "execution_count": null,
   "id": "5d2072e8-03b5-47ac-b299-4429c82fe9b2",
   "metadata": {
    "editable": true,
    "slideshow": {
     "slide_type": ""
    },
    "tags": []
   },
   "outputs": [],
   "source": [
    "%%bash\n",
    "\n",
    "run/SQL_from_app_server1 application_pdb_APPUSER \"\n",
    "\n",
    "select * from SPELLS.LIST where name like '%iety%' ;\n",
    "\n",
    "\""
   ]
  },
  {
   "cell_type": "code",
   "execution_count": null,
   "id": "49019965-1ca9-464d-aec6-72a1a9233201",
   "metadata": {
    "editable": true,
    "slideshow": {
     "slide_type": ""
    },
    "tags": []
   },
   "outputs": [],
   "source": [
    "%%bash\n",
    "\n",
    "run/SQL_from_app_server1 application_pdb_APPUSER \"\n",
    "\n",
    "update SPELLS.LIST set name='Control freak' where name='Control';\n",
    "\n",
    "\""
   ]
  },
  {
   "attachments": {},
   "cell_type": "markdown",
   "id": "9075975c-ae6f-4d92-8c93-76683c5f9f87",
   "metadata": {
    "editable": true,
    "slideshow": {
     "slide_type": ""
    },
    "tags": []
   },
   "source": [
    "# SQL Firewall\n",
    "Integration with Data Safe on OCI"
   ]
  },
  {
   "cell_type": "markdown",
   "id": "83965a9a-ce3d-4bb0-96dc-ad6dfe6d258a",
   "metadata": {},
   "source": [
    "![SQLFIREWALL](graphics/data_safe.png)"
   ]
  },
  {
   "cell_type": "code",
   "execution_count": null,
   "id": "8fe2aab2-6620-43bc-a40a-aa724f9ba232",
   "metadata": {
    "editable": true,
    "slideshow": {
     "slide_type": ""
    },
    "tags": []
   },
   "outputs": [],
   "source": [
    "%%bash\n",
    "\n",
    "run/SQL application_pdb_firefighter \"\n",
    "\n",
    "select USERNAME, GENERATED_ON, STATUS, ENFORCE, BLOCK from DBA_SQL_FIREWALL_ALLOW_LISTS ;\n",
    "\n",
    "\""
   ]
  },
  {
   "cell_type": "markdown",
   "id": "c25f5004-779e-4fea-8d30-1df63143bf82",
   "metadata": {},
   "source": [
    "# \"Best soups are made in old pots\" => NO!\n",
    "\n",
    "Improve security efficiency and security management thanks to Oracle 23ai!\n",
    "\n",
    "# Thanks!\n",
    "\n",
    "- E-Mail: flora.barriele@oracle.com\n",
    "- TwittX: @floo_bar\n",
    "- LinkedIn: florabarriele"
   ]
  },
  {
   "cell_type": "code",
   "execution_count": null,
   "id": "b1af6a69-3c04-4d07-b504-252dae432198",
   "metadata": {},
   "outputs": [],
   "source": []
  }
 ],
 "metadata": {
  "kernelspec": {
   "display_name": "Python 3 (ipykernel)",
   "language": "python",
   "name": "python3"
  },
  "language_info": {
   "codemirror_mode": {
    "name": "ipython",
    "version": 3
   },
   "file_extension": ".py",
   "mimetype": "text/x-python",
   "name": "python",
   "nbconvert_exporter": "python",
   "pygments_lexer": "ipython3",
   "version": "3.9.18"
  }
 },
 "nbformat": 4,
 "nbformat_minor": 5
}
